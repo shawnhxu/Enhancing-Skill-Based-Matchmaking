{
 "cells": [
  {
   "cell_type": "code",
   "execution_count": 2,
   "metadata": {},
   "outputs": [],
   "source": [
    "#load packages\n",
    "import pandas as pd\n",
    "from sklearn.feature_extraction.text import CountVectorizer"
   ]
  },
  {
   "cell_type": "code",
   "execution_count": 11,
   "metadata": {},
   "outputs": [],
   "source": [
    "#file path to data\n",
    "iron_path = '../../data/raw-riot-data/league text data/iron_text_data.csv'\n",
    "bronze_path = '../../data/raw-riot-data/league text data/bronze_text_data.csv'\n",
    "silver_path = '../../data/raw-riot-data/league text data/silver_text_data.csv'\n",
    "gold_path = '../../data/raw-riot-data/league text data/gold_text_data.csv'\n",
    "platinum_path = '../../data/raw-riot-data/league text data/platinum_text_data.csv'\n",
    "emerald_path = '../../data/raw-riot-data/league text data/emerald_text_data.csv'\n",
    "diamond_path = '../../data/raw-riot-data/league text data/diamond_text_data.csv'\n",
    "\n",
    "#import all .csv files of each ranked division match data\n",
    "#all blank entries in the dataset will be set as NaN by pandas\n",
    "iron_df = pd.read_csv(iron_path)\n",
    "bronze_df = pd.read_csv(bronze_path)\n",
    "silver_df = pd.read_csv(silver_path)\n",
    "gold_df= pd.read_csv(gold_path)\n",
    "platinum_df= pd.read_csv(platinum_path)\n",
    "emerald_df= pd.read_csv(emerald_path)\n",
    "diamond_df = pd.read_csv(diamond_path)"
   ]
  },
  {
   "cell_type": "code",
   "execution_count": 12,
   "metadata": {},
   "outputs": [],
   "source": [
    "\"\"\"\n",
    "Seeing the same issues as the match record data, I will use similar strategies in cleaning for text data\n",
    "\"\"\"\n",
    "\n",
    "#every data set has a column called '0' that turns into NaN after read_csv()\n",
    "#eliminate that col for each dataframe:\n",
    "iron_df = iron_df.drop('0', axis=1)\n",
    "bronze_df = bronze_df.drop('0', axis=1)\n",
    "silver_df = silver_df.drop('0', axis=1)\n",
    "gold_df = gold_df.drop('0', axis=1)\n",
    "platinum_df = platinum_df.drop('0', axis=1)\n",
    "emerald_df = emerald_df.drop('0', axis=1)\n",
    "diamond_df = diamond_df.drop('0', axis=1)\n",
    "\n",
    "#now remove all rows that contain NaN\n",
    "#leaves us with no empty rows\n",
    "iron_df = iron_df.dropna()\n",
    "bronze_df = bronze_df.dropna()\n",
    "silver_df = silver_df.dropna()\n",
    "gold_df = gold_df.dropna()\n",
    "platinum_df = platinum_df.dropna()\n",
    "emerald_df = emerald_df.dropna()\n",
    "diamond_df = diamond_df.dropna()"
   ]
  },
  {
   "cell_type": "code",
   "execution_count": 13,
   "metadata": {},
   "outputs": [],
   "source": [
    "#clean the text data found in column 'position' for each division\n",
    "#lowercase all the strings found in this column\n",
    "iron_df['position'] = iron_df['position'].str.lower()\n",
    "bronze_df['position'] = bronze_df['position'].str.lower()\n",
    "silver_df['position'] = silver_df['position'].str.lower()\n",
    "gold_df['position'] = gold_df['position'].str.lower()\n",
    "platinum_df['position'] = platinum_df['position'].str.lower()\n",
    "emerald_df['position'] = emerald_df['position'].str.lower()\n",
    "diamond_df['position'] = diamond_df['position'].str.lower()\n",
    "\n",
    "#also lower the champion column strings\n",
    "iron_df['champion'] = iron_df['champion'].str.lower()\n",
    "bronze_df['champion'] = bronze_df['champion'].str.lower()\n",
    "silver_df['champion'] = silver_df['champion'].str.lower()\n",
    "gold_df['champion'] = gold_df['champion'].str.lower()\n",
    "platinum_df['champion'] = platinum_df['champion'].str.lower()\n",
    "emerald_df['champion'] = emerald_df['champion'].str.lower()\n",
    "diamond_df['champion'] = diamond_df['champion'].str.lower()"
   ]
  },
  {
   "cell_type": "code",
   "execution_count": 9,
   "metadata": {},
   "outputs": [],
   "source": [
    "#combine all the rank divison match data together:\n",
    "league_combined = pd.concat([iron_df, bronze_df, silver_df, gold_df, platinum_df, emerald_df, diamond_df])"
   ]
  },
  {
   "cell_type": "code",
   "execution_count": 14,
   "metadata": {},
   "outputs": [],
   "source": [
    "#finally write the combined dataframe into a .csv file\n",
    "league_combined.to_csv('combined_text_data_cleaned.csv', index = False)"
   ]
  }
 ],
 "metadata": {
  "kernelspec": {
   "display_name": "dsan5000",
   "language": "python",
   "name": "python3"
  },
  "language_info": {
   "codemirror_mode": {
    "name": "ipython",
    "version": 3
   },
   "file_extension": ".py",
   "mimetype": "text/x-python",
   "name": "python",
   "nbconvert_exporter": "python",
   "pygments_lexer": "ipython3",
   "version": "3.11.5"
  }
 },
 "nbformat": 4,
 "nbformat_minor": 2
}
