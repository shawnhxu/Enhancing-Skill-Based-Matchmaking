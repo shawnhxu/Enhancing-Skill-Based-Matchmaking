{
 "cells": [
  {
   "cell_type": "code",
   "execution_count": 2,
   "metadata": {},
   "outputs": [],
   "source": [
    "##Import relevant packages:\n",
    "import requests\n",
    "import pandas as pd\n",
    "import numpy as np\n",
    "from time import sleep"
   ]
  },
  {
   "cell_type": "code",
   "execution_count": 3,
   "metadata": {},
   "outputs": [],
   "source": [
    "#API key for Riot API\n",
    "riot_api_key = \"RGAPI-2328d769-4f75-42c0-8673-8001bed0ee54\"\n",
    "\n",
    "#example request url for player named 'Samikin' \n",
    "request_url = \"https://na1.api.riotgames.com/lol/summoner/v4/summoners/by-name/Samikin\"\n",
    "request_url_api = request_url + \"?api_key=\" + riot_api_key"
   ]
  },
  {
   "cell_type": "code",
   "execution_count": 4,
   "metadata": {},
   "outputs": [],
   "source": [
    "\"\"\"\n",
    "I will use the same pipeline as the non-text data retrieval from the Riot API but this time I will focus on text data.\n",
    "\n",
    "Below is a copy of what I used to retrieve match data (record data)\n",
    "\"\"\"\n",
    "\n",
    "\n",
    "#looping through to request data on a player's recent games\n",
    "#only looking at player data from NA in each divison at tier 2\n",
    "#(ie. bronze 2, gold 2, etc.)\n",
    "\n",
    "#function get all summoner_names in a certain division\n",
    "#like GOLD, DIAMOND, PLATINUM\n",
    "#param: division as string, riot API key\n",
    "#return: puuid as string\n",
    "def get_league(division, riot_api_key):\n",
    "    request_url = (\"https://na1.api.riotgames.com/lol/league/v4/entries/RANKED_SOLO_5x5/\" + division + \n",
    "                   \"/II?page=1\" + \"&api_key=\" + riot_api_key) #create correct request url\n",
    "    resp = requests.get(request_url) #get response after requesting from url\n",
    "    players = resp.json() #get dict of page 1 of players in certain division\n",
    "    league_list = [] #init empty list to append player summoner names\n",
    "    for dict in players: #loop thru each player in the dict\n",
    "        player = dict['summonerName'] #add the summoner name to empty list\n",
    "        league_list.append(player)\n",
    "    return league_list\n",
    "\n",
    "\n",
    "#function get puuid from summoner name\n",
    "#param: player name as string, riot API key\n",
    "#return: puuid as string\n",
    "def get_puuid(summoner_name, riot_api_key): \n",
    "    request_url = \"https://na1.api.riotgames.com/lol/summoner/v4/summoners/by-name/\" + summoner_name\n",
    "    request_url_api = request_url + \"?api_key=\" + riot_api_key #create request url\n",
    "    resp = requests.get(request_url_api) #get response\n",
    "    if resp.status_code == 200:\n",
    "        player_info = resp.json() #parse player info\n",
    "        if 'puuid' in player_info: #only looking for dictionary where 'puuid' exists\n",
    "            puuid = player_info['puuid'] #retrieve only puuid to use later\n",
    "    return puuid\n",
    "\n",
    "\n",
    "#function to get 10 match ID's with puuid\n",
    "#param: puuid as string, riot API key\n",
    "#return: match id's as list of strings \n",
    "def get_matches(puuid, riot_api_key): \n",
    "    match_url = (\n",
    "        \"https://americas.api.riotgames.com/lol/match/v5/matches/by-puuid/\" +\n",
    "        puuid +\n",
    "        \"/ids?start=0&count=10\" +\n",
    "        \"&api_key=\" +\n",
    "        riot_api_key\n",
    "    ) #create request url\n",
    "    resp = requests.get(match_url) #request with url\n",
    "    matches = resp.json() #parse it\n",
    "    return matches #we get the 10 most recent matches of a player\n"
   ]
  },
  {
   "cell_type": "code",
   "execution_count": 8,
   "metadata": {},
   "outputs": [],
   "source": [
    "\"\"\"\n",
    "I will use mostly the same pipeline from the non-text data retrieval with modifications for just the position of each player\n",
    "\n",
    "Below is a similar function to retrieve text data\n",
    "\"\"\"\n",
    "\n",
    "#function to get specific types of data from ranked match data\n",
    "#param: puuid as string, match_data as dict\n",
    "#return: position text data, champion (fictional character in the game) text data \n",
    "##will utilize position to create prediction model of which champions plays in which position\n",
    "##columns = ['position','champion']\n",
    "def player_data(puuid, match_data):\n",
    "    match = np.nan\n",
    "    if 'info' in match_data: #only looking for the data where 'info' dictionary exists\n",
    "        if match_data['info']['queueId'] == 420: #only ranked matches are wanted\n",
    "            player_index = match_data['metadata']['participants'].index(puuid) #get index of player in the match\n",
    "            #because the dictionary is made according to the index of the player's puuid in the initial dict\n",
    "            champion = match_data['info']['participants'][player_index]['championName'] #the champion played\n",
    "            position = match_data['info']['participants'][player_index]['individualPosition'] #number of kills in the match\n",
    "\n",
    "            match = pd.Series([champion, position],\n",
    "                          index=['champion','position'])\n",
    "    return match\n",
    "\n",
    "\n",
    "#function to get match DATA with a list of match id\n",
    "#param: puuid as string, match ID's as list of strings, riot API key, empty df\n",
    "#empty df should have columns with these names in this order:\n",
    "#['champion','position']\n",
    "#return: updated df with data\n",
    "def get_match_data(puuid, matches, riot_api_key, empty_df):\n",
    "    for match in matches:\n",
    "        match_data_url = (\n",
    "            \"https://americas.api.riotgames.com/lol/match/v5/matches/\" +\n",
    "            match + \n",
    "            \"?api_key=\" +\n",
    "            riot_api_key\n",
    "        ) #create request url\n",
    "        match_data = requests.get(match_data_url) #request the url\n",
    "        match_data_parse = match_data.json() #parse the response\n",
    "        data_series = player_data(puuid, match_data_parse) #get all desired match variables/data\n",
    "        data_series2 = pd.DataFrame([data_series]) #change series to df\n",
    "        empty_df = pd.concat([empty_df, data_series2], ignore_index=True) #concat to empty df to add to the dataset\n",
    "\n",
    "    return empty_df"
   ]
  },
  {
   "cell_type": "code",
   "execution_count": 9,
   "metadata": {},
   "outputs": [],
   "source": [
    "\"\"\"\n",
    "Test code for player named \"Samikin\"\n",
    "\"\"\"\n",
    "\n",
    "########################TESTING FUNCTIONS###########################\n",
    "#Using player named 'Samikin' as an example to test the functions\n",
    "example = 'Samikin' #an example player\n",
    "empty_df_example = pd.DataFrame(columns=['champion','position']) #init df of variables\n",
    "puuid_example = get_puuid(example, riot_api_key) #getting puuid of player\n",
    "matches_example = get_matches(puuid_example, riot_api_key) #get recent 10 matches with puuid\n",
    "text_data_example = get_match_data(puuid_example, matches_example, riot_api_key, empty_df_example) #get desired match data in each match\n",
    "#will also concat to df as a row (match = row)"
   ]
  },
  {
   "cell_type": "code",
   "execution_count": 10,
   "metadata": {},
   "outputs": [],
   "source": [
    "\"\"\"\n",
    "Create actual dataset of different ranks in ranked solo/duo 5v5 on summoner's rift (TEXT DATA).\n",
    "I will ignore the top 300 ranked 'Challenger' players for the text data.\n",
    "Same process as record data retrieval but this time only for position and champion played.\n",
    "\"\"\"\n",
    "\n",
    "#1. use get_league() function to get 205 summoner names in a given division\n",
    "#2. loop over the list returned by get_league() to run through each player\n",
    "#3. get puuid of each player\n",
    "#4. get recent 10 matches of each player\n",
    "#5. get text data if the match is ranked solo/duo 5v5 on summoner's rift\n",
    "##### ranked solo/duo 5v5 on summoner's rift is the typical queue type that player use to determine their skill at the game\n",
    "##### this is domain knowledge but it is the dataset I will be working with in this project\n",
    "\n",
    "\n",
    "#init empty df with desired variables for IRON\n",
    "df_iron = pd.DataFrame(columns=['champion','position'])\n",
    "\n",
    "#create list of all summoner names in division iron tier 2 (IRON II)\n",
    "league_list = get_league('IRON', riot_api_key)\n",
    "#run through the necessary functions to update df with desired match data\n",
    "for summoner in league_list:\n",
    "    puuid_summoner = get_puuid(summoner, riot_api_key) #getting puuid of player\n",
    "    matches_summoner = get_matches(puuid_summoner, riot_api_key) #get recent 10 matches with puuid\n",
    "    df_iron = get_match_data(puuid_summoner, matches_summoner, riot_api_key, df_iron) #update df with match data\n",
    "#to categorize this data of Iron II players, I will manually add a column with their respective rank\n",
    "df_iron['rank'] = 'iron'"
   ]
  },
  {
   "cell_type": "code",
   "execution_count": 12,
   "metadata": {},
   "outputs": [
    {
     "name": "stdout",
     "output_type": "stream",
     "text": [
      "cannot access local variable 'puuid' where it is not associated with a value\n",
      "cannot access local variable 'puuid' where it is not associated with a value\n",
      "cannot access local variable 'puuid' where it is not associated with a value\n",
      "cannot access local variable 'puuid' where it is not associated with a value\n",
      "cannot access local variable 'puuid' where it is not associated with a value\n",
      "cannot access local variable 'puuid' where it is not associated with a value\n",
      "cannot access local variable 'puuid' where it is not associated with a value\n",
      "cannot access local variable 'puuid' where it is not associated with a value\n"
     ]
    }
   ],
   "source": [
    "#Now do the same for each respective division\n",
    "#Divisions: Iron, Bronze, Silver, Gold, Platinum, Emerald, Diamond\n",
    "#Do same operations for all ranks aside from Iron...\n",
    "\n",
    "#init empty df with desired variables for BRONZE\n",
    "df_bronze = pd.DataFrame(columns=['champion','position'])\n",
    "\n",
    "#create list of all summoner names in division bronze tier 2\n",
    "league_list = get_league('BRONZE', riot_api_key)\n",
    "#run through the necessary functions to update df with desired match data\n",
    "for summoner in league_list:\n",
    "    try:\n",
    "        puuid_summoner = get_puuid(summoner, riot_api_key) #getting puuid of player\n",
    "        matches_summoner = get_matches(puuid_summoner, riot_api_key) #get recent 10 matches with puuid\n",
    "        df_bronze = get_match_data(puuid_summoner, matches_summoner, riot_api_key, df_bronze) #update df with match data\n",
    "    except Exception as e:\n",
    "        print(e)\n",
    "#add rank to new col\n",
    "df_bronze['rank'] = 'bronze'"
   ]
  },
  {
   "cell_type": "code",
   "execution_count": 13,
   "metadata": {},
   "outputs": [],
   "source": [
    "#init empty df with desired variables for SILVER\n",
    "df_silver = pd.DataFrame(columns=['champion','position'])\n",
    "\n",
    "#create list of all summoner names in division silver tier 2 \n",
    "league_list = get_league('SILVER', riot_api_key)\n",
    "#run through the necessary functions to update df with desired match data\n",
    "for summoner in league_list:\n",
    "    try:\n",
    "        puuid_summoner = get_puuid(summoner, riot_api_key) #getting puuid of player\n",
    "        matches_summoner = get_matches(puuid_summoner, riot_api_key) #get recent 10 matches with puuid\n",
    "        df_silver = get_match_data(puuid_summoner, matches_summoner, riot_api_key, df_silver) #update df with match data\n",
    "    except Exception as e:\n",
    "        print(e)\n",
    "#add rank to new col\n",
    "df_silver['rank'] = 'silver'"
   ]
  },
  {
   "cell_type": "code",
   "execution_count": 14,
   "metadata": {},
   "outputs": [
    {
     "name": "stdout",
     "output_type": "stream",
     "text": [
      "cannot access local variable 'puuid' where it is not associated with a value\n",
      "cannot access local variable 'puuid' where it is not associated with a value\n",
      "cannot access local variable 'puuid' where it is not associated with a value\n"
     ]
    }
   ],
   "source": [
    "#init empty df with desired variables for GOLD\n",
    "df_gold = pd.DataFrame(columns=['champion','position'])\n",
    "\n",
    "#create list of all summoner names in division gold tier 2 \n",
    "league_list = get_league('GOLD', riot_api_key)\n",
    "#run through the necessary functions to update df with desired match data\n",
    "for summoner in league_list:\n",
    "    sleep(0.5)\n",
    "    try:\n",
    "        puuid_summoner = get_puuid(summoner, riot_api_key) #getting puuid of player\n",
    "        matches_summoner = get_matches(puuid_summoner, riot_api_key) #get recent 10 matches with puuid\n",
    "        df_gold = get_match_data(puuid_summoner, matches_summoner, riot_api_key, df_gold) #update df with match data\n",
    "    except Exception as e:\n",
    "        print(e)\n",
    "#add rank to new col\n",
    "df_gold['rank'] = 'gold'"
   ]
  },
  {
   "cell_type": "code",
   "execution_count": 15,
   "metadata": {},
   "outputs": [
    {
     "name": "stdout",
     "output_type": "stream",
     "text": [
      "cannot access local variable 'puuid' where it is not associated with a value\n"
     ]
    }
   ],
   "source": [
    "\n",
    "#init empty df with desired variables for PLATINUM\n",
    "df_platinum = pd.DataFrame(columns=['champion','position'])\n",
    "\n",
    "#create list of all summoner names in division platinum tier 2 \n",
    "league_list = get_league('PLATINUM', riot_api_key)\n",
    "#run through the necessary functions to update df with desired match data\n",
    "for summoner in league_list:\n",
    "    sleep(0.5)\n",
    "    try:\n",
    "        puuid_summoner = get_puuid(summoner, riot_api_key) #getting puuid of player\n",
    "        matches_summoner = get_matches(puuid_summoner, riot_api_key) #get recent 10 matches with puuid\n",
    "        df_platinum = get_match_data(puuid_summoner, matches_summoner, riot_api_key, df_platinum) #update df with match data\n",
    "    except Exception as e:\n",
    "        print(e)\n",
    "#add rank to new col\n",
    "df_platinum['rank'] = 'platinum'"
   ]
  },
  {
   "cell_type": "code",
   "execution_count": 16,
   "metadata": {},
   "outputs": [
    {
     "name": "stdout",
     "output_type": "stream",
     "text": [
      "cannot access local variable 'puuid' where it is not associated with a value\n"
     ]
    }
   ],
   "source": [
    "#init empty df with desired variables for EMERALD\n",
    "df_emerald = pd.DataFrame(columns=['champion','position'])\n",
    "\n",
    "#create list of all summoner names in division emerald tier 2 \n",
    "league_list = get_league('EMERALD', riot_api_key)\n",
    "#run through the necessary functions to update df with desired match data\n",
    "for summoner in league_list:\n",
    "    try:\n",
    "        puuid_summoner = get_puuid(summoner, riot_api_key) #getting puuid of player\n",
    "        matches_summoner = get_matches(puuid_summoner, riot_api_key) #get recent 10 matches with puuid\n",
    "        df_emerald = get_match_data(puuid_summoner, matches_summoner, riot_api_key, df_emerald) #update df with match data\n",
    "    except Exception as e:\n",
    "        print(e)\n",
    "#add rank to new col\n",
    "df_emerald['rank'] = 'emerald'"
   ]
  },
  {
   "cell_type": "code",
   "execution_count": 17,
   "metadata": {},
   "outputs": [
    {
     "name": "stdout",
     "output_type": "stream",
     "text": [
      "cannot access local variable 'puuid' where it is not associated with a value\n"
     ]
    }
   ],
   "source": [
    "#init empty df with desired variables for DIAMOND\n",
    "df_diamond = pd.DataFrame(columns=['champion','position'])\n",
    "\n",
    "#create list of all summoner names in division diamond tier 2 \n",
    "league_list = get_league('DIAMOND', riot_api_key)\n",
    "#run through the necessary functions to update df with desired match data\n",
    "for summoner in league_list:\n",
    "    try:\n",
    "        puuid_summoner = get_puuid(summoner, riot_api_key) #getting puuid of player\n",
    "        matches_summoner = get_matches(puuid_summoner, riot_api_key) #get recent 10 matches with puuid\n",
    "        df_diamond = get_match_data(puuid_summoner, matches_summoner, riot_api_key, df_diamond) #update df with match data\n",
    "    except Exception as e:\n",
    "        print(e)\n",
    "#add rank to new col\n",
    "df_diamond['rank'] = 'diamond'"
   ]
  },
  {
   "cell_type": "code",
   "execution_count": 19,
   "metadata": {},
   "outputs": [],
   "source": [
    "\"\"\"\n",
    "write all dataframes in .csv files. This is for TEXT DATA.\n",
    "\"\"\"\n",
    "#write the created df_LEAGUE into a .csv file called 'league_LEAGUE_data.csv'\n",
    "#for league = iron, bronze, silver, gold, platinum, emerald, diamond\n",
    "df_iron.to_csv('iron_text_data.csv', index = False)\n",
    "df_bronze.to_csv('bronze_text_data.csv', index = False)\n",
    "df_silver.to_csv('silver_text_data.csv', index = False)\n",
    "df_gold.to_csv('gold_text_data.csv', index = False)\n",
    "df_platinum.to_csv('platinum_text_data.csv', index = False)\n",
    "df_emerald.to_csv('emerald_text_data.csv', index = False)\n",
    "df_diamond.to_csv('diamond_text_data.csv', index = False)"
   ]
  }
 ],
 "metadata": {
  "kernelspec": {
   "display_name": "dsan5000",
   "language": "python",
   "name": "python3"
  },
  "language_info": {
   "codemirror_mode": {
    "name": "ipython",
    "version": 3
   },
   "file_extension": ".py",
   "mimetype": "text/x-python",
   "name": "python",
   "nbconvert_exporter": "python",
   "pygments_lexer": "ipython3",
   "version": "3.11.5"
  }
 },
 "nbformat": 4,
 "nbformat_minor": 2
}
