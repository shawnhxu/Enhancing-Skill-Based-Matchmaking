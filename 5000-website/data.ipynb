{
  "cells": [
    {
      "cell_type": "markdown",
      "metadata": {},
      "source": [
        "## Data"
      ]
    },
    {
      "cell_type": "markdown",
      "metadata": {},
      "source": [
        "Access the Data through the project [Github Repository](https://github.com/anly501/dsan-5000-project-shawnhxu/tree/main/data).\n",
        "\n",
        "### Data Directory:\n",
        "```\n",
        "data/\n",
        "├── 01-raw-riot-data    (Raw retrieved player data from Riot API)\n",
        "│   ├── league-data     (Record Data of Each Rank Class)\n",
        "│   │   ├── league_bronze_data.csv\n",
        "│   │   ├── league_chall.csv\n",
        "│   │   ├── league_diamond_data.csv\n",
        "│   │   ├── league_emerald_data.csv\n",
        "│   │   ├── league_gold_chall.csv\n",
        "│   │   ├── league_iron_chall.csv\n",
        "│   │   ├── league_platinum_chall.csv\n",
        "│   │   └── league_silver_data.csv\n",
        "│   └── league-text-data    (Text Data of Each Rank Class)\n",
        "│       ├── bronze_text_data.csv\n",
        "│       ├── diamond_text_data.csv\n",
        "│       ├── emerald_text_data.csv\n",
        "│       ├── gold_text_data.csv\n",
        "│       ├── iron_text_data.csv\n",
        "│       ├── platinum_text_data.csv\n",
        "│       └── silver_silver_data.csv\n",
        "└── 02-cleaned_riot_data    (Combined/Cleaned Datasets)\n",
        "    ├── chall_data_cleaned.csv\n",
        "    ├── combined_text_data_cleaned.csv\n",
        "    ├── league_combined_cleaned.csv\n",
        "    ├── league_combined_with_chall_cleaned.csv\n",
        "    └── position_sum_cleaned.csv    \n",
        "```"
      ]
    }
  ],
  "metadata": {
    "kernelspec": {
      "display_name": "Python 3 (ipykernel)",
      "language": "python",
      "name": "python3"
    },
    "language_info": {
      "codemirror_mode": {
        "name": "ipython",
        "version": 3
      },
      "file_extension": ".py",
      "mimetype": "text/x-python",
      "name": "python",
      "nbconvert_exporter": "python",
      "pygments_lexer": "ipython3",
      "version": "3.10.8"
    }
  },
  "nbformat": 4,
  "nbformat_minor": 4
}
