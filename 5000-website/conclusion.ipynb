{
  "cells": [
    {
      "cell_type": "markdown",
      "metadata": {},
      "source": [
        "---\n",
        "format:\n",
        "  html:\n",
        "    embed-resources: true\n",
        "    code-fold: true\n",
        "---"
      ]
    },
    {
      "cell_type": "markdown",
      "metadata": {},
      "source": [
        "## Conclusions"
      ]
    },
    {
      "cell_type": "markdown",
      "metadata": {},
      "source": [
        "## Techniques/Analyses\n",
        "\n",
        "![League of Legends Image [Source](https://thegamescabin.com/will-league-of-legends-be-here-forever/)](images/LoL.png)\n",
        "\n",
        "To reiterate my project scope, I hope to do my investigation on the mainstream video game *League of Legends*. This was because of the limited amount of available data that I could retrieve relating to player data. And the reason I am looking specifically at player data is so that I can find variables within the game that might distinctly separate skill rating classes of players. So to find some underlying trends/information out of the data of thousands of players, I used different techniques listed below and took away some insights:\n",
        "\n",
        "- Naive Bayes\n",
        "- Dimensionality Reduction\n",
        "- Clustering\n",
        "- Decision Tree\n",
        "- Random Forest\n",
        "\n",
        "### Naive Bayes\n",
        "\n",
        "My first venture was using Naive Bayes to build a model that could potentially classify the rank of a player given their unseen match data. This idea dives right into my project scope as I believed that certain differently ranked players are distinct enough in match data. After going through this technique, my resulting model (even after feature selection) had about a 20% accuracy. This had a lot of implications relating to my project idea. It meant that my dataset did not show a clear enough pattern between rank classes to accurately classify an unseen player's rank based on their match data. This could mean many things from retrieving the insignificant features to this being an inherently impossible task. I think moving forward, I would work on building a different dataset that includes more variables to possibly find more significant features that might better predict a player's rank.\n",
        "\n",
        "Something exciting that I did find was that there were indeed features within the game that should be valued more when determining a player's rank. This was found with feature selection.\n",
        "\n",
        "On a separate mini-project relating to Naive Bayes, I looked into how related are the fictional characters (champions) being played by players correlate to their chosen position. I found in this mini-project that there does seem to be a consensus of what position certain champions play despite having no restrictions on where they can be played. The model created in this case performed very well and showed that there seems to be a community driven agreement of what positions certain champions play the best.\n",
        "\n",
        "\n",
        "### Dimensionality Reduction\n",
        "\n",
        "I found the use of different dimensionality reduction in my project. Namely, the use of Principal Component Analysis (PCA) and t-Distributed Stochastic Neighbor Embedding (t-SNE). Here is what I found using each method:\n",
        "\n",
        "I found that using t-SNE might have helped more in understanding my dataset better. This was because of the ability to tune the perplexity of dimensionally reducing my dataset with t-SNE. This allowed me to see how the relationship of points changed with higher perplexity which uncovered more about the global relationship between points in my dataset. Using a lower perplexity showed a relatively insignificant distribution of points similar to what I saw with PCA. \n",
        "\n",
        "I felt my visualization with t-SNE and the comparison visualization with PCA showed that my dataset was a lot more complex than I originally anticipated. This further emphasized what I found in my Naive Bayes step, that my retrieved dataset of player match data might be inherently too complex or contains too much noise for a classification model.\n",
        "\n",
        "### Clustering\n",
        "\n",
        "In this clustering step, I basically looked how different clustering techniques might play a role in my player match data dataset. I found that, again, my dataset was inherently really complex which led to my model having a low 20% accuracy. This step further emphasized what I found before but it did lead me to believe that I am lacking more unique variables and that noise might play a bigger role than I thought. So if I were to continue with this project, I would look to include more features into my dataset and employ noise or outlier reducing techniques.\n",
        "\n",
        "### Decision Tree\n",
        "\n",
        "In this step, I built a basic decision tree after using a ```Scikit-Learn``` function called ```GridSearchCV``` that looked for the highest accuracy with different combinations of hyperparameters for the given decision tree model. What I found was a similar classification model accuracy compared to what I found in Naive Bayes. \n",
        "\n",
        "This just further emphasized the issue with my dataset being too complex or containing too much noise.\n",
        "\n",
        "### Random Forest\n",
        "\n",
        "In this final technique, I used a Random Forest Classification model to compare what I found in the basic Decision Tree model as well as my Naive Bayes model. I found again 20% accuracy as my model accuracy score after optimizing hyperparameters. In the end I found the same results as I found in my first technique, Naive Bayes. "
      ]
    },
    {
      "cell_type": "markdown",
      "metadata": {},
      "source": [
        "## Future Work\n",
        "\n",
        "As iterated many times before, I will most likely have to repeat a lot of these techniques again after I curate an improved dataset. This meant that I should include different/more features that might relate to determining a player's skill rating. Another thing that I should focus on if I were to continue this project is to perform noise or outlier reduction techniques.\n",
        "\n",
        "## Final Word\n",
        "\n",
        "Trying to understand and improve a competitive game's Skill Based Matchmaking System is a tall task for one person in one project, but investigating the nuances of a multi-faceted game was a fruitful endeavor in my opinion. I was able to understand the broader scope of the complexity of *League of Legends* through the game's many different data-generating features. As an avid player in many different games across multiple genres, diving deep into one of the biggest competitive games in the world was truly an insightful journey.\n"
      ]
    }
  ],
  "metadata": {
    "kernelspec": {
      "display_name": "Python 3 (ipykernel)",
      "language": "python",
      "name": "python3"
    },
    "language_info": {
      "codemirror_mode": {
        "name": "ipython",
        "version": 3
      },
      "file_extension": ".py",
      "mimetype": "text/x-python",
      "name": "python",
      "nbconvert_exporter": "python",
      "pygments_lexer": "ipython3",
      "version": "3.10.8"
    }
  },
  "nbformat": 4,
  "nbformat_minor": 4
}
