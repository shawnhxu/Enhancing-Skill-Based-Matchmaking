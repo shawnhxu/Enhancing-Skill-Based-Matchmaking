{
 "cells": [
  {
   "cell_type": "markdown",
   "metadata": {},
   "source": [
    "## Introduction: Development of Skill Based Matchmaking (SBMM) in Video Games"
   ]
  },
  {
   "cell_type": "markdown",
   "metadata": {},
   "source": [
    "In this day and age, access to technology and internet connection has allowed for the culmination of numerous facets of human interaction. With the inclusion of online gaming services, there are even more ways of interacting with others through the form of games. \n",
    "\n",
    "Many types of games have been born because of these online gaming services with a popular form of this being competitive gameplay. Since competing against other human players can be more challenging and interesting, this form of gaming has become wildly popular in our modern times. Competitive games in their respective categories (MOBA, Shooter, Strategy, etc. games) have become so popular that they have their own \"eSports\" or electronic sports scenes being streamed on various broadcasting networks. It is an understatement to say that the gaming industry is big, it's __enormous__.[^1] With how large the industry and consumer-base is, it is extremely important for guidelines to be put in place for popular competitive games to sustain their competitive scene and player base. \n",
    "\n",
    "With the popularity of competitive gaming and its future growth, a necessity to (1) create an enjoyable experience and (2) provide players an incentive to continue playing needs to be addressed by developers.[^2] Sometimes this falls into the realms of marketing and design, but in competitive games the essence of competition and fair-play are attributes that developers must pay attention to for players to keep playing.\n",
    "\n",
    "A way to answer both these issues in competitive video games is through the addition of a Skill Based Matchmaking (SBMM) system. This system aims to create balanced teams that have similar skill ratings in order to produce a competitive match. Though, many matchmaking systems are made so that a player's skill rating is linearly determined by their past matches (wins and losses) compared to their opponents. Past created rating systems like Elo, Glicko, and Trueskill are some examples of these. [^3]\n",
    "\n",
    "To go more into these traditional rating systems, we can dive into the history of the Elo system to get an idea of the foundations of more advanced rating systems. At its core, a rating system hopes to determine how good a player is at a certain game. The elo system was made exactly for that reason in the Chess world. Developed by Professor Arpad Elo in 1959 for Chess, the Elo system essentially took the skill rating between two players going against each other to determine the probability of who will win the Chess match. Obviously, the better player of two will most likely win and therefore have a higher probability. The other player will thus have a lower probability. From here, the binary result of the match (win/loss) will determine how much the losing player loses from their skill rating points and how much the winning player gains. In the Elo system, the winning player takes a certain amount of points from the losing player thus increasing their skill rating points and the losing player losing skill rating points. The system is unique in that the initial skill ratings of the players determine how much they lose/gain. Say the worse rated player took an underdog win against the better rated player, then the worse player will take a much higher amount of rating points from the better player. If the situation was flipped where the worse player loses to the better rated player as expected, then the amount taken from the worse player will be a lot less. This Elo system has even been adopted in other games like Scrabble and Go as well as sports like Tennis, Bowling, and Basketball.[^4]\n",
    "\n",
    "Going back to modern competitive games, there are many more aspects of these games that must be taken into consideration. Many popular competitive games include aspects like teamplay and coordination. So an innately one-person scalar rating in the Elo system being used in team games can be troublesome to calculate a team's skill rating. So to consider the idea of teamplay and coordination is crucial in creating an accurate skill rating. Going more into this, each player has their own style of playing the game and therefore using an outcome-based algorithm like the Elo system is dangerous. It does not capture the overall complexity of competitive team games. Another aspect that isn't addressed in the Elo system is the measurement of an individual's performance/effort in a specific match. If a player played well compared to their usual performance, then their efforts will be lost if their rating is determined solely by the outcome of the match.[^5]\n",
    "\n",
    "Currently, skill rating algorithms is largely uncharted territory as many games employ different aspects of performace. Additionally, many ideas of how to build these rating algorithms are still in development. So in this final project I will go down the rabbit hole of skill rating systems. I plan to investigate different viewpoints of skill rating systems and use game developers' open API's to take in data from numerous games to find possible ways of improving skill rating systems in each of those video games.\n",
    "\n"
   ]
  },
  {
   "cell_type": "markdown",
   "metadata": {},
   "source": [
    "#### Some questions I plan on Investigating:\n",
    "\n",
    "- What are the current SBMM algorithms being used right now in popular competitive games?\n",
    "  - How do they determine a player's skill?\n",
    "- What performance metrics should I investigate?\n",
    "  - Do these metrics differ from game to game?\n",
    "  - How are these metrics weighed and transformed into rating?\n",
    "- How are certain roles determined in games by metrics?\n",
    "  - How do you weigh each role in skill rating?\n",
    "- How does the amount of games played affect skill rating gain?\n",
    "  - More games with same skill rating = gain less rating?\n",
    "- Can we still use outcome based systems like Elo?\n",
    "- How do you determine if a SBMM system is good?\n",
    "- What API's are available?\n",
    "- Are there overlaps in metrics that can be used across different genres of games?"
   ]
  },
  {
   "cell_type": "markdown",
   "metadata": {},
   "source": [
    "[^1]: https://www.grandviewresearch.com/industry-analysis/video-game-market#:~:text=b.-,The%20global%20video%20game%20market%20size%20was%20estimated%20at%20USD,USD%20583.69%20billion%20by%202030.\n",
    "[^2]: https://www.microsoft.com/en-us/research/wp-content/uploads/2006/10/Game-Developer-Feature-Article-Graepel-Herbrich.pdf\n",
    "[^3]: https://dl.acm.org/doi/pdf/10.1145/3442381.3450091\n",
    "[^4]: https://ieeexplore.ieee.org/abstract/document/4938634\n",
    "[^5]: https://ieeexplore.ieee.org/abstract/document/9231859\n"
   ]
  }
 ],
 "metadata": {
  "kernelspec": {
   "display_name": "Python 3 (ipykernel)",
   "language": "python",
   "name": "python3"
  },
  "language_info": {
   "codemirror_mode": {
    "name": "ipython",
    "version": 3
   },
   "file_extension": ".py",
   "mimetype": "text/x-python",
   "name": "python",
   "nbconvert_exporter": "python",
   "pygments_lexer": "ipython3",
   "version": "3.11.5"
  }
 },
 "nbformat": 4,
 "nbformat_minor": 4
}
