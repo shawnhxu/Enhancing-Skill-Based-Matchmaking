{
  "cells": [
    {
      "cell_type": "markdown",
      "metadata": {},
      "source": [
        "![Shawn Xu, Boston University Graduation May 2023](./images/grad_photo.png)\n",
        "\n",
        "## About Me\n",
        "Hello, I am Shawn Xu and I am currently a student in the M.S. Data Science and Analytics program at <ins>Georgetown University</ins>. Before attending Georgetown University, I received my Bachelor's degree in Biomedical Engineering from <ins>Boston University</ins> where I focused mainly on biomedical lab research on proteins. A primary experience of mine was focused on the implications of protein degradation in the treatment of cancer. Now transitioning to Data Science, I hope to implement what I learned and will learn into my interests and hobbies.\n",
        "\n",
        "### Education:\n",
        "- 2025: M.S. Data Science and Analytics, Georgetown University\n",
        "- 2023: B.S. Biomedical Engineering, Boston University\n",
        "\n",
        "### Academic Interests:\n",
        "- Artificial Intelligence, Machine Learning, and Deep Learning\n",
        "- Natural Language Processing\n",
        "- Convolution Neural Networks\n",
        "- Data Science in Public Health, Medicine, Biology, and Gaming\n",
        "\n",
        "### Contact Info:\n",
        "- __Email:__ sx131@georgetown.edu\n",
        "\n"
      ]
    }
  ],
  "metadata": {
    "kernelspec": {
      "display_name": "Python 3 (ipykernel)",
      "language": "python",
      "name": "python3"
    },
    "language_info": {
      "codemirror_mode": {
        "name": "ipython",
        "version": 3
      },
      "file_extension": ".py",
      "mimetype": "text/x-python",
      "name": "python",
      "nbconvert_exporter": "python",
      "pygments_lexer": "ipython3",
      "version": "3.10.8"
    }
  },
  "nbformat": 4,
  "nbformat_minor": 4
}
