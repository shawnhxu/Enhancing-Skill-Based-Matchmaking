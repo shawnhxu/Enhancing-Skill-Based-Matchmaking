{
  "cells": [
    {
      "cell_type": "markdown",
      "metadata": {},
      "source": [
        "## Code"
      ]
    },
    {
      "cell_type": "markdown",
      "metadata": {},
      "source": [
        "Access the code through [Github Repository.](https://github.com/shawnhxu/EnhancingSBMM/tree/main/codes) <br>\n",
        "\n",
        "### Code Directory:\n",
        "Here is the structure of my code directory containing all the code for retrieving data, cleaning data, and analyses.\n",
        "\n",
        "```\n",
        "codes/\n",
        "├── 01-data-gathering       (Code for retrieving data)\n",
        "├── 02-data-cleaning        (Code for cleaning the data)\n",
        "├── 03-feature-selection    (Code for Feature Selection)\n",
        "├── 04-naive-bayes          (Code for Naive Bayes)\n",
        "├── 05-dim-red              (Code for Dimensional Reduction)\n",
        "├── 06-clustering           (Code for Clustering)\n",
        "└── 07-trees                (Code for different Tree Techniques)\n",
        "```"
      ]
    }
  ],
  "metadata": {
    "kernelspec": {
      "display_name": "Python 3 (ipykernel)",
      "language": "python",
      "name": "python3"
    },
    "language_info": {
      "codemirror_mode": {
        "name": "ipython",
        "version": 3
      },
      "file_extension": ".py",
      "mimetype": "text/x-python",
      "name": "python",
      "nbconvert_exporter": "python",
      "pygments_lexer": "ipython3",
      "version": "3.10.8"
    }
  },
  "nbformat": 4,
  "nbformat_minor": 4
}
