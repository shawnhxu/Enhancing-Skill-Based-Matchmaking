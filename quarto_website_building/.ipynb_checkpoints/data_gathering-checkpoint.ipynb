{
 "cells": [
  {
   "cell_type": "markdown",
   "metadata": {},
   "source": [
    "---\n",
    "title: \"Data Gathering\"\n",
    "format: html\n",
    "---"
   ]
  },
  {
   "cell_type": "markdown",
   "metadata": {},
   "source": [
    "Build out your website tab for Data Gathering\n",
    "\n",
    "API's to consider:<br>\n",
    "- Riot Games' API for LOL<br>\n",
    "    - match statistics, player profiles, and rankings<br>\n",
    "- Steam's API possibly for games like CSGO?<br>\n",
    "    - a lot of data here i think<br>\n",
    "- Blizzard's API for OW but might be limited<br>\n",
    "    - player profiles, achievements, and others<br>\n",
    "- Epic games' API for Fortnite<br>\n",
    "    - Epic Online Services (EOS) offers features like player identity, matchmaking, and leaderboards<br>"
   ]
  },
  {
   "cell_type": "code",
   "execution_count": null,
   "metadata": {},
   "outputs": [],
   "source": []
  }
 ],
 "metadata": {
  "kernelspec": {
   "display_name": "Python 3 (ipykernel)",
   "language": "python",
   "name": "python3"
  },
  "language_info": {
   "codemirror_mode": {
    "name": "ipython",
    "version": 3
   },
   "file_extension": ".py",
   "mimetype": "text/x-python",
   "name": "python",
   "nbconvert_exporter": "python",
   "pygments_lexer": "ipython3",
   "version": "3.10.9"
  }
 },
 "nbformat": 4,
 "nbformat_minor": 4
}
